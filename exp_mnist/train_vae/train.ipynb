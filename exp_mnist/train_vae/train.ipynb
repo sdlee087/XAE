{
 "cells": [
  {
   "cell_type": "code",
   "execution_count": 4,
   "metadata": {},
   "outputs": [],
   "source": [
    "import os, sys, logging, configparser\n",
    "sys.path.append('/'.join(os.getcwd().split('/')[:-2]))\n",
    "import warnings\n",
    "warnings.filterwarnings(\"ignore\")\n",
    "os.environ['CUDA_VISIBLE_DEVICES']='1'\n",
    "import torch\n",
    "from train import VAE_MNIST\n",
    "from XAE.logging_daily import logging_daily"
   ]
  },
  {
   "cell_type": "code",
   "execution_count": 5,
   "metadata": {},
   "outputs": [
    {
     "data": {
      "text/plain": [
       "['./config/train_config.cfg']"
      ]
     },
     "execution_count": 5,
     "metadata": {},
     "output_type": "execute_result"
    }
   ],
   "source": [
    "is_cuda = torch.cuda.is_available()\n",
    "device = torch.device('cuda' if is_cuda else 'cpu')\n",
    "\n",
    "logger = logging_daily('./config/log_info.yaml')\n",
    "log = logger.get_logging()\n",
    "log.setLevel(logging.INFO)\n",
    "\n",
    "cfg = configparser.ConfigParser()\n",
    "cfg.read('./config/train_config.cfg')"
   ]
  },
  {
   "cell_type": "code",
   "execution_count": 10,
   "metadata": {},
   "outputs": [
    {
     "name": "stderr",
     "output_type": "stream",
     "text": [
      "[default |INFO|_base_model.py:26] ------------------------------------------------------------\n",
      "[default |INFO|_base_model.py:28] model_name : WAE_MMD_MNIST\n",
      "[default |INFO|_base_model.py:28] train_data : MNIST\n",
      "[default |INFO|_base_model.py:28] z_sampler : gaus\n",
      "[default |INFO|_base_model.py:28] z_dim : 8\n",
      "[default |INFO|_base_model.py:28] prob_enc : False\n",
      "[default |INFO|_base_model.py:28] encoder_pretrain : False\n",
      "[default |INFO|_base_model.py:28] encoder_pretrain_batch_size : 1000,\n",
      "[default |INFO|_base_model.py:28] encoder_pretrain_max_step : 200,\n",
      "[default |INFO|_base_model.py:28] lr : 1e-3\n",
      "[default |INFO|_base_model.py:28] beta1 : 0.9\n",
      "[default |INFO|_base_model.py:28] lambda : 10.0\n",
      "[default |INFO|_base_model.py:28] lr_schedule : manual\n",
      "[default |INFO|_base_model.py:28] validate : True\n",
      "[default |INFO|_base_model.py:28] histogram : True\n",
      "[default |INFO|_base_model.py:28] batch_size : 100\n",
      "[default |INFO|_base_model.py:28] epoch : 10\n",
      "[default |INFO|_base_model.py:28] iter_per_epoch : None\n",
      "[default |INFO|_base_model.py:28] save_best : False\n",
      "[default |INFO|_base_model.py:31] data_home : /home/reddragon/data/MNIST\n",
      "[default |INFO|_base_model.py:31] tb_logs : ../tb_logs/train_base\n",
      "[default |INFO|_base_model.py:31] save_path : ./weight.pt\n",
      "[default |INFO|_base_model.py:31] save_state : ./state.pt\n",
      "[default |INFO|_base_model.py:31] save_img_path : ./plots\n",
      "[default |INFO|_base_model.py:195] ------------------------------------------------------------\n",
      "[default |INFO|_base_model.py:196] Training Start!\n"
     ]
    },
    {
     "name": "stdout",
     "output_type": "stream",
     "text": [
      "[95/100]\ttest_mse: 0.0919\ttest_penalty: -0.0080083\r"
     ]
    },
    {
     "name": "stderr",
     "output_type": "stream",
     "text": [
      "[default |INFO|_base_model.py:267] [6/10]\ttrain_mse: 9.361453e-02\ttrain_penalty: -8.307139e-03\ttest_mse: 9.194095e-02\ttest_penalty: -8.045325e-03\n"
     ]
    },
    {
     "name": "stdout",
     "output_type": "stream",
     "text": [
      "[99/100]\ttest_mse: 0.0881\ttest_penalty: -0.0098083\r"
     ]
    },
    {
     "name": "stderr",
     "output_type": "stream",
     "text": [
      "[default |INFO|_base_model.py:267] [7/10]\ttrain_mse: 8.986287e-02\ttrain_penalty: -8.272150e-03\ttest_mse: 8.808451e-02\ttest_penalty: -9.752541e-03\n"
     ]
    },
    {
     "name": "stdout",
     "output_type": "stream",
     "text": [
      "[96/100]\ttest_mse: 0.0863\ttest_penalty: -0.0069087\r"
     ]
    },
    {
     "name": "stderr",
     "output_type": "stream",
     "text": [
      "[default |INFO|_base_model.py:267] [8/10]\ttrain_mse: 8.790911e-02\ttrain_penalty: -8.748287e-03\ttest_mse: 8.616544e-02\ttest_penalty: -6.848402e-03\n"
     ]
    },
    {
     "name": "stdout",
     "output_type": "stream",
     "text": [
      "[99/100]\ttest_mse: 0.0856\ttest_penalty: -0.0086092\r"
     ]
    },
    {
     "name": "stderr",
     "output_type": "stream",
     "text": [
      "[default |INFO|_base_model.py:267] [9/10]\ttrain_mse: 8.580560e-02\ttrain_penalty: -9.159336e-03\ttest_mse: 8.555634e-02\ttest_penalty: -8.617835e-03\n"
     ]
    },
    {
     "name": "stdout",
     "output_type": "stream",
     "text": [
      "[97/100]\ttest_mse: 0.0835\ttest_penalty: -0.0074095\r"
     ]
    },
    {
     "name": "stderr",
     "output_type": "stream",
     "text": [
      "[default |INFO|_base_model.py:267] [10/10]\ttrain_mse: 8.400741e-02\ttrain_penalty: -9.470974e-03\ttest_mse: 8.333130e-02\ttest_penalty: -7.585297e-03\n"
     ]
    },
    {
     "name": "stdout",
     "output_type": "stream",
     "text": [
      "[99/100]\ttest_mse: 0.0833\ttest_penalty: -0.0076\r"
     ]
    },
    {
     "name": "stderr",
     "output_type": "stream",
     "text": [
      "[default |INFO|_base_model.py:331] Training Finished!\n",
      "[default |INFO|_base_model.py:332] Elapsed time: 213.469s\n"
     ]
    }
   ],
   "source": [
    "model = VAE_MNIST(cfg, log, device = device)\n",
    "model.train()\n",
    "# model.train(resume = True)"
   ]
  },
  {
   "cell_type": "code",
   "execution_count": 13,
   "metadata": {},
   "outputs": [
    {
     "data": {
      "text/plain": [
       "-0.6931471805599453"
      ]
     },
     "execution_count": 13,
     "metadata": {},
     "output_type": "execute_result"
    }
   ],
   "source": [
    "import math\n",
    "math.log(0.5)"
   ]
  }
 ],
 "metadata": {
  "interpreter": {
   "hash": "d77abe1f91c93046f1735f3da40ae4cbc8fa8253ee46f96b7b2c304a8ef5c243"
  },
  "kernelspec": {
   "display_name": "dcgan",
   "language": "python",
   "name": "dcgan"
  },
  "language_info": {
   "codemirror_mode": {
    "name": "ipython",
    "version": 3
   },
   "file_extension": ".py",
   "mimetype": "text/x-python",
   "name": "python",
   "nbconvert_exporter": "python",
   "pygments_lexer": "ipython3",
   "version": "3.7.10"
  }
 },
 "nbformat": 4,
 "nbformat_minor": 4
}
